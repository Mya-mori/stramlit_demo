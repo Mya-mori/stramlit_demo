{
 "cells": [
  {
   "attachments": {},
   "cell_type": "markdown",
   "metadata": {},
   "source": [
    "#  MEMO & TEST"
   ]
  },
  {
   "attachments": {},
   "cell_type": "markdown",
   "metadata": {},
   "source": [
    "### 現在の日付"
   ]
  },
  {
   "cell_type": "code",
   "execution_count": 7,
   "metadata": {},
   "outputs": [
    {
     "name": "stdout",
     "output_type": "stream",
     "text": [
      "08-03-2023 20:48:45\n"
     ]
    }
   ],
   "source": [
    "from datetime import datetime\n",
    "def current_dt():\n",
    "    now = datetime.now()\n",
    "    datetime_string = now.strftime(\"%d-%m-%Y %H:%M:%S\")\n",
    "    return datetime_string\n",
    "\n",
    "print(current_dt())"
   ]
  },
  {
   "attachments": {},
   "cell_type": "markdown",
   "metadata": {},
   "source": [
    "### 接続"
   ]
  },
  {
   "cell_type": "code",
   "execution_count": 4,
   "metadata": {},
   "outputs": [
    {
     "name": "stderr",
     "output_type": "stream",
     "text": [
      "2023-03-08 20:47:52.748 `st.experimental_singleton` is deprecated. Please use the new command `st.cache_resource` instead, which has the same behavior. More information [in our docs](https://docs.streamlit.io/library/advanced-features/caching).\n",
      "2023-03-08 20:47:52.750 Snowflake Connector for Python Version: 2.7.12, Python Version: 3.8.16, Platform: macOS-10.16-x86_64-i386-64bit\n",
      "2023-03-08 20:47:52.751 This connection is in OCSP Fail Open Mode. TLS Certificates would be checked for validity and revocation status. Any other Certificate Revocation related exceptions or OCSP Responder failures would be disregarded in favor of connectivity.\n",
      "2023-03-08 20:47:52.751 Setting use_openssl_only mode to False\n",
      "2023-03-08 20:47:54.150 `st.experimental_memo` is deprecated. Please use the new command `st.cache_data` instead, which has the same behavior. More information [in our docs](https://docs.streamlit.io/library/advanced-features/caching).\n",
      "2023-03-08 20:47:54.151 `st.experimental_singleton` is deprecated. Please use the new command `st.cache_resource` instead, which has the same behavior. More information [in our docs](https://docs.streamlit.io/library/advanced-features/caching).\n"
     ]
    }
   ],
   "source": [
    "import streamlit as st\n",
    "import snowflake.connector\n",
    "@st.experimental_singleton\n",
    "def init_connection():\n",
    "    return snowflake.connector.connect(\n",
    "        **st.secrets[\"snowflake\"], client_session_keep_alive=True\n",
    "    )\n",
    "\n",
    "conn = init_connection()\n",
    "\n",
    "@st.experimental_memo(ttl=600)\n",
    "@st.experimental_singleton\n",
    "def run_query(query):\n",
    "    with conn.cursor() as cur:\n",
    "        cur.execute(query)\n",
    "        return cur.fetchall()"
   ]
  }
 ],
 "metadata": {
  "kernelspec": {
   "display_name": "Python 3",
   "language": "python",
   "name": "python3"
  },
  "language_info": {
   "codemirror_mode": {
    "name": "ipython",
    "version": 3
   },
   "file_extension": ".py",
   "mimetype": "text/x-python",
   "name": "python",
   "nbconvert_exporter": "python",
   "pygments_lexer": "ipython3",
   "version": "3.8.16"
  },
  "orig_nbformat": 4
 },
 "nbformat": 4,
 "nbformat_minor": 2
}
